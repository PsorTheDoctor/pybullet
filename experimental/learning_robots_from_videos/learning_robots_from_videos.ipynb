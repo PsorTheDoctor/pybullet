{
 "cells": [
  {
   "cell_type": "markdown",
   "metadata": {
    "id": "view-in-github",
    "colab_type": "text"
   },
   "source": [
    "<a href=\"https://colab.research.google.com/github/PsorTheDoctor/pybullet/blob/master/experimental/learning_robots_from_videos/learning_robots_from_videos.ipynb\" target=\"_parent\"><img src=\"https://colab.research.google.com/assets/colab-badge.svg\" alt=\"Open In Colab\"/></a>"
   ]
  },
  {
   "cell_type": "markdown",
   "metadata": {
    "id": "YZ5D1a6MtzXB"
   },
   "source": [
    "#Learning robots from videos"
   ]
  },
  {
   "cell_type": "code",
   "execution_count": 22,
   "metadata": {
    "id": "gPDAi87FVgaw"
   },
   "outputs": [],
   "source": [
    "import numpy as np\n",
    "from PIL import Image, ImageOps\n",
    "import tensorflow as tf\n",
    "from tensorflow.keras import layers, models\n",
    "import matplotlib.pyplot as plt"
   ]
  },
  {
   "cell_type": "code",
   "execution_count": 2,
   "metadata": {
    "colab": {
     "base_uri": "https://localhost:8080/"
    },
    "id": "8BdZ_3FuCQqE",
    "outputId": "666c487d-f31e-402f-e89f-3e7aaf691c2b"
   },
   "outputs": [
    {
     "name": "stdout",
     "output_type": "stream",
     "text": [
      "Drive already mounted at /content/gdrive; to attempt to forcibly remount, call drive.mount(\"/content/gdrive\", force_remount=True).\n"
     ]
    }
   ],
   "source": [
    "from google.colab import drive\n",
    "drive.mount('/content/gdrive')"
   ]
  },
  {
   "cell_type": "code",
   "execution_count": 3,
   "metadata": {
    "colab": {
     "base_uri": "https://localhost:8080/"
    },
    "id": "UdTz9K_D-Ndj",
    "outputId": "3ddf37ad-4260-43cf-f24c-6a08491296fe"
   },
   "outputs": [
    {
     "name": "stdout",
     "output_type": "stream",
     "text": [
      "/content/gdrive/MyDrive/learning_robots_from_videos\n"
     ]
    }
   ],
   "source": [
    "%cd gdrive/MyDrive/learning_robots_from_videos"
   ]
  },
  {
   "cell_type": "code",
   "execution_count": 4,
   "metadata": {
    "colab": {
     "base_uri": "https://localhost:8080/"
    },
    "id": "dGQGWUWaDKZ3",
    "outputId": "6ad69859-afbb-4f75-cf5d-4e437e29c241"
   },
   "outputs": [
    {
     "name": "stdout",
     "output_type": "stream",
     "text": [
      "20069\n",
      "9931\n",
      "id: 0 joints: 0.2109 0.673 0.0145 0.4538 0.2607 0.8661 0.4338 0.2676 0.8326 0.0994 0.3137 0.4118 0.7252 0.6344\n"
     ]
    }
   ],
   "source": [
    "with open('report.txt', 'r') as f:\n",
    "  lines = f.readlines()\n",
    "  print(len(lines))\n",
    "\n",
    "formattedLines = []\n",
    "for i in range(len(lines) - 1):\n",
    "  line = lines[i]\n",
    "  nextLine = lines[i + 1]\n",
    "  # If line starts with 'id' and next line ends with ']\\n'\n",
    "  if line[:2] == 'id' and nextLine[len(nextLine) - 2:] == ']\\n':\n",
    "    # Deleting \\n\n",
    "    line = line[:len(line) - 1]\n",
    "    nextLine = nextLine[:len(nextLine) - 1]\n",
    "    # Removing square brackets and multi spaces\n",
    "    formattedLine = line + nextLine\n",
    "    formattedLine = formattedLine.replace('[', '').replace(']', '') \\\n",
    "    .replace('  ', ' ').replace('  ', ' ').replace('  ', ' ')\n",
    "    # Concatenaning lines and appending them\n",
    "    formattedLines.append(formattedLine)\n",
    "\n",
    "print(len(formattedLines))\n",
    "print(formattedLines[0])"
   ]
  },
  {
   "cell_type": "code",
   "execution_count": 5,
   "metadata": {
    "colab": {
     "base_uri": "https://localhost:8080/"
    },
    "id": "ojZcZS3NNGOm",
    "outputId": "14c4e940-680d-42c5-c3a5-f7ffb8c9703c"
   },
   "outputs": [
    {
     "name": "stdout",
     "output_type": "stream",
     "text": [
      "9931\n",
      "9931\n"
     ]
    }
   ],
   "source": [
    "validIds = []\n",
    "validJoints = []\n",
    "for line in formattedLines:\n",
    "  line = line.split(' ')\n",
    "  validIds.append(int(line[1]))\n",
    "\n",
    "  numJoints = 14\n",
    "  joints = np.zeros(numJoints)\n",
    "  for i in range(numJoints):\n",
    "    joints[i] = float(line[i + 3])\n",
    "  validJoints.append(joints)\n",
    "\n",
    "print(len(validIds))\n",
    "print(len(validJoints))"
   ]
  },
  {
   "cell_type": "code",
   "execution_count": 6,
   "metadata": {
    "colab": {
     "base_uri": "https://localhost:8080/"
    },
    "id": "NHHYbBT-k5eF",
    "outputId": "c5a25491-91b7-44f9-9699-0dfb522839c8"
   },
   "outputs": [
    {
     "name": "stdout",
     "output_type": "stream",
     "text": [
      "(9931, 14)\n"
     ]
    }
   ],
   "source": [
    "arrayJoints = np.array(validJoints)\n",
    "print(arrayJoints.shape)"
   ]
  },
  {
   "cell_type": "code",
   "execution_count": 7,
   "metadata": {
    "colab": {
     "base_uri": "https://localhost:8080/"
    },
    "id": "KNv7GT9Cpq8C",
    "outputId": "abe6ad24-be26-4784-e470-f35c852aad63"
   },
   "outputs": [
    {
     "name": "stdout",
     "output_type": "stream",
     "text": [
      "/content/gdrive/MyDrive/learning_robots_from_videos/images\n"
     ]
    }
   ],
   "source": [
    "%cd images"
   ]
  },
  {
   "cell_type": "code",
   "execution_count": null,
   "metadata": {
    "id": "m4jT8F6TJ3ld"
   },
   "outputs": [],
   "source": [
    "images = []\n",
    "for id in validIds:\n",
    "  img = Image.open('{}.jpg'.format(id))\n",
    "  images.append(np.array(img))\n",
    "  if id % 100 == 0:\n",
    "    print('\\r img: {}'.format(id))\n",
    "\n",
    "X = np.array(images)\n",
    "X.shape"
   ]
  },
  {
   "cell_type": "code",
   "execution_count": 9,
   "metadata": {
    "colab": {
     "base_uri": "https://localhost:8080/"
    },
    "id": "YlB7gxJptg7a",
    "outputId": "c4131728-3ba8-4991-8651-e5656192387e"
   },
   "outputs": [
    {
     "name": "stdout",
     "output_type": "stream",
     "text": [
      "(7000, 224, 224)\n",
      "(2931, 224, 224)\n",
      "(7000, 14)\n",
      "(2931, 14)\n"
     ]
    }
   ],
   "source": [
    "# Normalization\n",
    "X_norm = X / 255.0 - 0.5\n",
    "y_norm = arrayJoints / 3.5\n",
    "\n",
    "X_train = X_norm[:7000]\n",
    "X_test = X_norm[-2931:]\n",
    "y_train = y_norm[:7000]\n",
    "y_test = y_norm[-2931:]\n",
    "\n",
    "print(X_train.shape)\n",
    "print(X_test.shape)\n",
    "print(y_train.shape)\n",
    "print(y_test.shape)"
   ]
  },
  {
   "cell_type": "code",
   "execution_count": 10,
   "metadata": {
    "colab": {
     "base_uri": "https://localhost:8080/"
    },
    "id": "sm6MEcA3Rt1V",
    "outputId": "2c214f04-380f-4b45-a8af-88b6edbb199d"
   },
   "outputs": [
    {
     "name": "stdout",
     "output_type": "stream",
     "text": [
      "Model: \"sequential\"\n",
      "_________________________________________________________________\n",
      " Layer (type)                Output Shape              Param #   \n",
      "=================================================================\n",
      " conv2d (Conv2D)             (None, 220, 220, 128)     3328      \n",
      "                                                                 \n",
      " max_pooling2d (MaxPooling2D  (None, 73, 73, 128)      0         \n",
      " )                                                               \n",
      "                                                                 \n",
      " conv2d_1 (Conv2D)           (None, 71, 71, 64)        73792     \n",
      "                                                                 \n",
      " max_pooling2d_1 (MaxPooling  (None, 35, 35, 64)       0         \n",
      " 2D)                                                             \n",
      "                                                                 \n",
      " conv2d_2 (Conv2D)           (None, 33, 33, 32)        18464     \n",
      "                                                                 \n",
      " max_pooling2d_2 (MaxPooling  (None, 16, 16, 32)       0         \n",
      " 2D)                                                             \n",
      "                                                                 \n",
      " conv2d_3 (Conv2D)           (None, 14, 14, 16)        4624      \n",
      "                                                                 \n",
      " max_pooling2d_3 (MaxPooling  (None, 7, 7, 16)         0         \n",
      " 2D)                                                             \n",
      "                                                                 \n",
      " flatten (Flatten)           (None, 784)               0         \n",
      "                                                                 \n",
      " dense (Dense)               (None, 1000)              785000    \n",
      "                                                                 \n",
      " dense_1 (Dense)             (None, 14)                14014     \n",
      "                                                                 \n",
      "=================================================================\n",
      "Total params: 899,222\n",
      "Trainable params: 899,222\n",
      "Non-trainable params: 0\n",
      "_________________________________________________________________\n"
     ]
    }
   ],
   "source": [
    "model = models.Sequential()\n",
    "\n",
    "model.add(layers.Conv2D(128, (5, 5), activation='relu', input_shape=(224, 224, 1)))\n",
    "model.add(layers.MaxPooling2D((3, 3)))\n",
    "model.add(layers.Conv2D(64, (3, 3), activation='relu'))\n",
    "model.add(layers.MaxPooling2D((2, 2)))\n",
    "model.add(layers.Conv2D(32, (3, 3), activation='relu'))\n",
    "model.add(layers.MaxPooling2D((2, 2)))\n",
    "model.add(layers.Conv2D(16, (3, 3), activation='relu'))\n",
    "model.add(layers.MaxPooling2D((2, 2)))\n",
    "model.add(layers.Flatten())\n",
    "model.add(layers.Dense(1000, activation='relu'))\n",
    "model.add(layers.Dense(14, activation='relu'))\n",
    "\n",
    "model.summary()"
   ]
  },
  {
   "cell_type": "code",
   "execution_count": 11,
   "metadata": {
    "id": "MOFu__1TvI8x"
   },
   "outputs": [],
   "source": [
    "model.compile(optimizer='adam',\n",
    "              loss='categorical_crossentropy',\n",
    "              metrics=['accuracy'])"
   ]
  },
  {
   "cell_type": "code",
   "execution_count": 14,
   "metadata": {
    "colab": {
     "base_uri": "https://localhost:8080/"
    },
    "id": "9C8DpLlkUU02",
    "outputId": "3cfcf781-bd64-4477-c7bd-3e0a93c9f939"
   },
   "outputs": [
    {
     "name": "stdout",
     "output_type": "stream",
     "text": [
      "Epoch 1/100\n",
      "219/219 [==============================] - 19s 87ms/step - loss: 12.3325 - accuracy: 0.0720\n",
      "Epoch 2/100\n",
      "219/219 [==============================] - 19s 88ms/step - loss: 12.3312 - accuracy: 0.0796\n",
      "Epoch 3/100\n",
      "219/219 [==============================] - 19s 88ms/step - loss: 12.3127 - accuracy: 0.1076\n",
      "Epoch 4/100\n",
      "219/219 [==============================] - 19s 88ms/step - loss: 12.3013 - accuracy: 0.1156\n",
      "Epoch 5/100\n",
      "219/219 [==============================] - 19s 88ms/step - loss: 10.1742 - accuracy: 0.1076\n",
      "Epoch 6/100\n",
      "219/219 [==============================] - 19s 88ms/step - loss: 9.1802 - accuracy: 0.1214\n",
      "Epoch 7/100\n",
      "219/219 [==============================] - 19s 88ms/step - loss: 9.1719 - accuracy: 0.1339\n",
      "Epoch 8/100\n",
      "219/219 [==============================] - 19s 88ms/step - loss: 9.1643 - accuracy: 0.1340\n",
      "Epoch 9/100\n",
      "219/219 [==============================] - 19s 88ms/step - loss: 9.1548 - accuracy: 0.1393\n",
      "Epoch 10/100\n",
      "219/219 [==============================] - 19s 88ms/step - loss: 9.1451 - accuracy: 0.1489\n",
      "Epoch 11/100\n",
      "219/219 [==============================] - 19s 88ms/step - loss: 9.1442 - accuracy: 0.1444\n",
      "Epoch 12/100\n",
      "219/219 [==============================] - 19s 88ms/step - loss: 9.1329 - accuracy: 0.1561\n",
      "Epoch 13/100\n",
      "219/219 [==============================] - 19s 88ms/step - loss: 9.1289 - accuracy: 0.1543\n",
      "Epoch 14/100\n",
      "219/219 [==============================] - 19s 88ms/step - loss: 9.1212 - accuracy: 0.1606\n",
      "Epoch 15/100\n",
      "219/219 [==============================] - 19s 88ms/step - loss: 9.1332 - accuracy: 0.1534\n",
      "Epoch 16/100\n",
      "219/219 [==============================] - 19s 88ms/step - loss: 9.1138 - accuracy: 0.1621\n",
      "Epoch 17/100\n",
      "219/219 [==============================] - 19s 88ms/step - loss: 9.1090 - accuracy: 0.1666\n",
      "Epoch 18/100\n",
      "219/219 [==============================] - 19s 88ms/step - loss: 9.0976 - accuracy: 0.1704\n",
      "Epoch 19/100\n",
      "219/219 [==============================] - 19s 88ms/step - loss: 9.0938 - accuracy: 0.1629\n",
      "Epoch 20/100\n",
      "219/219 [==============================] - 19s 87ms/step - loss: 9.1209 - accuracy: 0.1449\n",
      "Epoch 21/100\n",
      "219/219 [==============================] - 19s 87ms/step - loss: 9.2064 - accuracy: 0.0930\n",
      "Epoch 22/100\n",
      "219/219 [==============================] - 19s 88ms/step - loss: 9.1753 - accuracy: 0.1224\n",
      "Epoch 23/100\n",
      "219/219 [==============================] - 19s 88ms/step - loss: 9.1539 - accuracy: 0.1376\n",
      "Epoch 24/100\n",
      "219/219 [==============================] - 19s 88ms/step - loss: 9.1346 - accuracy: 0.1514\n",
      "Epoch 25/100\n",
      "219/219 [==============================] - 19s 88ms/step - loss: 9.1193 - accuracy: 0.1603\n",
      "Epoch 26/100\n",
      "219/219 [==============================] - 19s 88ms/step - loss: 9.1085 - accuracy: 0.1599\n",
      "Epoch 27/100\n",
      "219/219 [==============================] - 19s 87ms/step - loss: 9.1174 - accuracy: 0.1559\n",
      "Epoch 28/100\n",
      "219/219 [==============================] - 19s 87ms/step - loss: 9.0904 - accuracy: 0.1707\n",
      "Epoch 29/100\n",
      "219/219 [==============================] - 19s 88ms/step - loss: 9.0973 - accuracy: 0.1593\n",
      "Epoch 30/100\n",
      "219/219 [==============================] - 19s 87ms/step - loss: 9.0853 - accuracy: 0.1663\n",
      "Epoch 31/100\n",
      "219/219 [==============================] - 19s 88ms/step - loss: 9.0654 - accuracy: 0.1754\n",
      "Epoch 32/100\n",
      "219/219 [==============================] - 19s 87ms/step - loss: 9.0787 - accuracy: 0.1757\n",
      "Epoch 33/100\n",
      "219/219 [==============================] - 19s 87ms/step - loss: 9.0575 - accuracy: 0.1793\n",
      "Epoch 34/100\n",
      "219/219 [==============================] - 19s 87ms/step - loss: 9.0554 - accuracy: 0.1734\n",
      "Epoch 35/100\n",
      "219/219 [==============================] - 19s 87ms/step - loss: 9.0382 - accuracy: 0.1869\n",
      "Epoch 36/100\n",
      "219/219 [==============================] - 19s 87ms/step - loss: 9.0323 - accuracy: 0.1857\n",
      "Epoch 37/100\n",
      "219/219 [==============================] - 19s 87ms/step - loss: 9.0263 - accuracy: 0.1946\n",
      "Epoch 38/100\n",
      "219/219 [==============================] - 19s 87ms/step - loss: 9.1029 - accuracy: 0.1527\n",
      "Epoch 39/100\n",
      "219/219 [==============================] - 19s 87ms/step - loss: 9.0768 - accuracy: 0.1657\n",
      "Epoch 40/100\n",
      "219/219 [==============================] - 19s 87ms/step - loss: 9.0388 - accuracy: 0.1800\n",
      "Epoch 41/100\n",
      "219/219 [==============================] - 19s 87ms/step - loss: 9.0349 - accuracy: 0.1744\n",
      "Epoch 42/100\n",
      "219/219 [==============================] - 19s 87ms/step - loss: 9.0005 - accuracy: 0.1917\n",
      "Epoch 43/100\n",
      "219/219 [==============================] - 19s 87ms/step - loss: 8.9914 - accuracy: 0.1943\n",
      "Epoch 44/100\n",
      "219/219 [==============================] - 19s 87ms/step - loss: 8.9789 - accuracy: 0.2019\n",
      "Epoch 45/100\n",
      "219/219 [==============================] - 19s 87ms/step - loss: 8.9838 - accuracy: 0.2033\n",
      "Epoch 46/100\n",
      "219/219 [==============================] - 19s 87ms/step - loss: 9.0509 - accuracy: 0.1776\n",
      "Epoch 47/100\n",
      "219/219 [==============================] - 19s 87ms/step - loss: 9.0967 - accuracy: 0.1553\n",
      "Epoch 48/100\n",
      "219/219 [==============================] - 19s 87ms/step - loss: 9.0592 - accuracy: 0.1694\n",
      "Epoch 49/100\n",
      "219/219 [==============================] - 19s 87ms/step - loss: 9.0345 - accuracy: 0.1800\n",
      "Epoch 50/100\n",
      "219/219 [==============================] - 19s 87ms/step - loss: 9.0311 - accuracy: 0.1790\n",
      "Epoch 51/100\n",
      "219/219 [==============================] - 19s 87ms/step - loss: 9.0809 - accuracy: 0.1597\n",
      "Epoch 52/100\n",
      "219/219 [==============================] - 19s 87ms/step - loss: 9.1231 - accuracy: 0.1471\n",
      "Epoch 53/100\n",
      "219/219 [==============================] - 19s 87ms/step - loss: 9.0888 - accuracy: 0.1614\n",
      "Epoch 54/100\n",
      "219/219 [==============================] - 19s 87ms/step - loss: 9.0293 - accuracy: 0.1859\n",
      "Epoch 55/100\n",
      "219/219 [==============================] - 19s 87ms/step - loss: 8.9925 - accuracy: 0.2014\n",
      "Epoch 56/100\n",
      "219/219 [==============================] - 19s 87ms/step - loss: 9.0005 - accuracy: 0.1923\n",
      "Epoch 57/100\n",
      "219/219 [==============================] - 19s 87ms/step - loss: 9.0530 - accuracy: 0.1740\n",
      "Epoch 58/100\n",
      "219/219 [==============================] - 19s 87ms/step - loss: 9.0019 - accuracy: 0.1923\n",
      "Epoch 59/100\n",
      "219/219 [==============================] - 19s 87ms/step - loss: 8.9830 - accuracy: 0.2019\n",
      "Epoch 60/100\n",
      "219/219 [==============================] - 19s 87ms/step - loss: 8.9653 - accuracy: 0.2109\n",
      "Epoch 61/100\n",
      "219/219 [==============================] - 19s 87ms/step - loss: 8.9594 - accuracy: 0.2177\n",
      "Epoch 62/100\n",
      "219/219 [==============================] - 19s 87ms/step - loss: 8.9972 - accuracy: 0.2003\n",
      "Epoch 63/100\n",
      "219/219 [==============================] - 19s 87ms/step - loss: 9.0271 - accuracy: 0.1853\n",
      "Epoch 64/100\n",
      "219/219 [==============================] - 19s 87ms/step - loss: 8.9765 - accuracy: 0.1981\n",
      "Epoch 65/100\n",
      "219/219 [==============================] - 19s 87ms/step - loss: 8.9892 - accuracy: 0.1967\n",
      "Epoch 66/100\n",
      "219/219 [==============================] - 19s 87ms/step - loss: 8.9497 - accuracy: 0.2194\n",
      "Epoch 67/100\n",
      "219/219 [==============================] - 19s 87ms/step - loss: 8.9249 - accuracy: 0.2340\n",
      "Epoch 68/100\n",
      "219/219 [==============================] - 19s 87ms/step - loss: 8.9199 - accuracy: 0.2369\n",
      "Epoch 69/100\n",
      "219/219 [==============================] - 19s 87ms/step - loss: 8.9057 - accuracy: 0.2430\n",
      "Epoch 70/100\n",
      "219/219 [==============================] - 19s 87ms/step - loss: 8.9024 - accuracy: 0.2407\n",
      "Epoch 71/100\n",
      "219/219 [==============================] - 19s 87ms/step - loss: 9.0593 - accuracy: 0.1731\n",
      "Epoch 72/100\n",
      "219/219 [==============================] - 19s 87ms/step - loss: 8.9791 - accuracy: 0.2083\n",
      "Epoch 73/100\n",
      "219/219 [==============================] - 19s 87ms/step - loss: 8.9445 - accuracy: 0.2211\n",
      "Epoch 74/100\n",
      "219/219 [==============================] - 19s 87ms/step - loss: 8.9750 - accuracy: 0.2103\n",
      "Epoch 75/100\n",
      "219/219 [==============================] - 19s 87ms/step - loss: 9.0170 - accuracy: 0.1901\n",
      "Epoch 76/100\n",
      "219/219 [==============================] - 19s 87ms/step - loss: 9.0568 - accuracy: 0.1679\n",
      "Epoch 77/100\n",
      "219/219 [==============================] - 19s 88ms/step - loss: 8.9514 - accuracy: 0.2191\n",
      "Epoch 78/100\n",
      "219/219 [==============================] - 19s 87ms/step - loss: 8.9742 - accuracy: 0.2027\n",
      "Epoch 79/100\n",
      "219/219 [==============================] - 19s 87ms/step - loss: 8.9310 - accuracy: 0.2210\n",
      "Epoch 80/100\n",
      "219/219 [==============================] - 19s 87ms/step - loss: 8.9627 - accuracy: 0.2020\n",
      "Epoch 81/100\n",
      "219/219 [==============================] - 19s 87ms/step - loss: 8.9721 - accuracy: 0.2013\n",
      "Epoch 82/100\n",
      "219/219 [==============================] - 19s 88ms/step - loss: 9.0610 - accuracy: 0.1749\n",
      "Epoch 83/100\n",
      "219/219 [==============================] - 19s 88ms/step - loss: 9.0286 - accuracy: 0.1831\n",
      "Epoch 84/100\n",
      "219/219 [==============================] - 19s 87ms/step - loss: 9.0711 - accuracy: 0.1689\n",
      "Epoch 85/100\n",
      "219/219 [==============================] - 19s 88ms/step - loss: 8.9714 - accuracy: 0.2024\n",
      "Epoch 86/100\n",
      "219/219 [==============================] - 19s 88ms/step - loss: 8.9585 - accuracy: 0.2151\n",
      "Epoch 87/100\n",
      "219/219 [==============================] - 19s 87ms/step - loss: 8.9304 - accuracy: 0.2329\n",
      "Epoch 88/100\n",
      "219/219 [==============================] - 19s 88ms/step - loss: 8.9063 - accuracy: 0.2280\n",
      "Epoch 89/100\n",
      "219/219 [==============================] - 19s 88ms/step - loss: 8.9288 - accuracy: 0.2260\n",
      "Epoch 90/100\n",
      "219/219 [==============================] - 19s 88ms/step - loss: 8.9973 - accuracy: 0.1947\n",
      "Epoch 91/100\n",
      "219/219 [==============================] - 19s 87ms/step - loss: 9.0617 - accuracy: 0.1733\n",
      "Epoch 92/100\n",
      "219/219 [==============================] - 19s 87ms/step - loss: 8.9760 - accuracy: 0.2059\n",
      "Epoch 93/100\n",
      "219/219 [==============================] - 19s 87ms/step - loss: 8.9417 - accuracy: 0.2170\n",
      "Epoch 94/100\n",
      "219/219 [==============================] - 19s 88ms/step - loss: 8.9118 - accuracy: 0.2369\n",
      "Epoch 95/100\n",
      "219/219 [==============================] - 19s 87ms/step - loss: 8.8869 - accuracy: 0.2486\n",
      "Epoch 96/100\n",
      "219/219 [==============================] - 19s 87ms/step - loss: 8.9009 - accuracy: 0.2381\n",
      "Epoch 97/100\n",
      "219/219 [==============================] - 19s 87ms/step - loss: 8.9115 - accuracy: 0.2241\n",
      "Epoch 98/100\n",
      "219/219 [==============================] - 19s 88ms/step - loss: 8.8783 - accuracy: 0.2519\n",
      "Epoch 99/100\n",
      "219/219 [==============================] - 19s 87ms/step - loss: 8.8700 - accuracy: 0.2510\n",
      "Epoch 100/100\n",
      "219/219 [==============================] - 19s 88ms/step - loss: 8.8678 - accuracy: 0.2504\n"
     ]
    }
   ],
   "source": [
    "history = model.fit(X_train, y_train, epochs=100)"
   ]
  },
  {
   "cell_type": "code",
   "execution_count": 15,
   "metadata": {
    "id": "Yj7wMxEmVvmD"
   },
   "outputs": [],
   "source": [
    "model.save('mirrornet.h5')"
   ]
  },
  {
   "cell_type": "code",
   "execution_count": 16,
   "metadata": {
    "colab": {
     "base_uri": "https://localhost:8080/",
     "height": 297.0
    },
    "id": "JlBvyfyHA4iE",
    "outputId": "345a794e-c2f6-47d3-ac39-7d4cbeed40ab"
   },
   "outputs": [
    {
     "data": {
      "text/plain": [
       "Text(0, 0.5, 'Loss')"
      ]
     },
     "execution_count": 16,
     "metadata": {},
     "output_type": "execute_result"
    },
    {
     "data": {
      "image/png": "[encoded data removed]",
      "text/plain": [
       "<Figure size 432x288 with 1 Axes>"
      ]
     },
     "metadata": {
      "needs_background": "light"
     },
     "output_type": "display_data"
    }
   ],
   "source": [
    "plt.plot(history.history['loss'])\n",
    "plt.plot(history.history['accuracy'])\n",
    "plt.xlabel('Epoch')\n",
    "plt.ylabel('Loss')"
   ]
  },
  {
   "cell_type": "code",
   "execution_count": 17,
   "metadata": {
    "colab": {
     "base_uri": "https://localhost:8080/"
    },
    "id": "vjY-2XJxCSYL",
    "outputId": "e24ccefb-2df7-4168-b69a-dba2e7e73cb8"
   },
   "outputs": [
    {
     "name": "stdout",
     "output_type": "stream",
     "text": [
      "[0.18211429 0.22214286 0.02297143 0.15477143 0.23194286 0.0836\n",
      " 0.23125714 0.20571429 0.17905714 0.04651429 0.03548571 0.00137143\n",
      " 0.24211429 0.2146    ]\n",
      "[163.44984  238.4727     0.       133.16922  165.5129    40.878613\n",
      " 193.8238   214.49821  171.59686  148.36125  147.55734  234.8973\n",
      " 105.488174 130.78993 ]\n"
     ]
    }
   ],
   "source": [
    "y_pred = model.predict(X_test)\n",
    "print(y_test[0])\n",
    "print(y_pred[0])"
   ]
  },
  {
   "cell_type": "code",
   "execution_count": 19,
   "metadata": {
    "colab": {
     "base_uri": "https://localhost:8080/"
    },
    "id": "jk1AyKSFdcDl",
    "outputId": "fd1bf053-2767-4ff7-d298-b37611795868"
   },
   "outputs": [
    {
     "name": "stdout",
     "output_type": "stream",
     "text": [
      "/content/gdrive/My Drive/learning_robots_from_videos\n"
     ]
    }
   ],
   "source": [
    "%cd ../"
   ]
  },
  {
   "cell_type": "code",
   "execution_count": null,
   "metadata": {
    "id": "54XbNxBgYc8I"
   },
   "outputs": [],
   "source": [
    "img = Image.open('kuka.jpg').resize((224, 224))\n",
    "gray = ImageOps.grayscale(img)\n",
    "X_test[0] = np.array(gray)\n",
    "\n",
    "y_pred = model.predict(X_test)\n",
    "print(y_pred[0])"
   ]
  }
 ],
 "metadata": {
  "colab": {
   "name": "learning_robots_from_videos.ipynb",
   "provenance": [],
   "authorship_tag": "ABX9TyMzcnZJ2MCUy3cEfckXZOst",
   "include_colab_link": true
  },
  "kernelspec": {
   "name": "python3",
   "display_name": "Python 3"
  },
  "language_info": {
   "name": "python"
  },
  "accelerator": "GPU"
 },
 "nbformat": 4,
 "nbformat_minor": 0
}
